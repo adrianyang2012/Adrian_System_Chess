{
  "nbformat": 4,
  "nbformat_minor": 0,
  "metadata": {
    "colab": {
      "private_outputs": true,
      "provenance": [],
      "authorship_tag": "ABX9TyMbw8ai3EaRtVBqF8JewkwV",
      "include_colab_link": true
    },
    "kernelspec": {
      "name": "python3",
      "display_name": "Python 3"
    },
    "language_info": {
      "name": "python"
    }
  },
  "cells": [
    {
      "cell_type": "markdown",
      "metadata": {
        "id": "view-in-github",
        "colab_type": "text"
      },
      "source": [
        "<a href=\"https://colab.research.google.com/github/adrianyang2012/Adrian_System_Chess/blob/main/Adrian_system_chess.ipynb\" target=\"_parent\"><img src=\"https://colab.research.google.com/assets/colab-badge.svg\" alt=\"Open In Colab\"/></a>"
      ]
    },
    {
      "cell_type": "code",
      "execution_count": null,
      "metadata": {
        "id": "-kZ_vgLXpnrw"
      },
      "outputs": [],
      "source": [
        "import random\n",
        "import matplotlib.pyplot as plt\n",
        "ratings = {\"Adrian\":650,\"Bob\":2500,\"Martin\":200}\n",
        "def calc_ratings(p1_rating,p2_rating,real_result):\n",
        "  expected_result = p1_rating/(p1_rating+p2_rating)\n",
        "  p1_rating+=20*(real_result-expected_result)\n",
        "  p2_rating-=20*(real_result-expected_result)\n",
        "  return p1_rating, p2_rating\n",
        "while True:\n",
        "  white = input(\"who is playing as white\")\n",
        "  black = input(\"who is playing as black\")\n",
        "  p1_rating = ratings[white]\n",
        "  p2_rating = ratings[black]\n",
        "  li = calc_ratings(p1_rating,p2_rating, float(input('What was the result? 1 for white won, 0.5 for draw, and 0 for black won.')))\n",
        "  ratings[white] = li[0]\n",
        "  ratings[black] = li[1]\n",
        "  print(ratings)\n",
        "\n"
      ]
    }
  ]
}