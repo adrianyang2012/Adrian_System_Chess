{
  "nbformat": 4,
  "nbformat_minor": 0,
  "metadata": {
    "colab": {
      "provenance": [],
      "gpuType": "V28",
      "authorship_tag": "ABX9TyPYxnoYCup1RZezSt6nY8zP",
      "include_colab_link": true
    },
    "kernelspec": {
      "name": "python3",
      "display_name": "Python 3"
    },
    "language_info": {
      "name": "python"
    },
    "accelerator": "TPU"
  },
  "cells": [
    {
      "cell_type": "markdown",
      "metadata": {
        "id": "view-in-github",
        "colab_type": "text"
      },
      "source": [
        "<a href=\"https://colab.research.google.com/github/adrianyang2012/Adrian_System_Chess/blob/main/Number_guesser_advanced.ipynb\" target=\"_parent\"><img src=\"https://colab.research.google.com/assets/colab-badge.svg\" alt=\"Open In Colab\"/></a>"
      ]
    },
    {
      "cell_type": "code",
      "execution_count": null,
      "metadata": {
        "id": "dwTuVSma0HnP"
      },
      "outputs": [],
      "source": [
        "possiblities = []\n",
        "digits = 7\n",
        "\n",
        "possiblities = [x for x in range(10**(digits-1),10**digits) if '0' not in str(x) and len(list(set(list(str(x))))) == len(list(str(x)))]\n",
        "print(possiblities)\n",
        "len(possiblities)"
      ]
    },
    {
      "cell_type": "code",
      "source": [
        "def eliminate(guess,answer):\n",
        "  new_possiblities = []\n",
        "  num_of_b = answer.count('B')\n",
        "  num_of_a = answer.count('A')\n",
        "\n",
        "\n",
        "  if answer == 'A'*digits:\n",
        "    return 'win'\n",
        "  else:\n",
        "    for i in range(0,len(possiblities)):\n",
        "      nums_count = 0\n",
        "      equal_count = 0\n",
        "      nums = [int(str(guess)[i]) for i in range(0,digits)]\n",
        "\n",
        "      for j in range(0,len(nums)):\n",
        "        if str(nums[j]) in str(possiblities[i]) and not str(possiblities[i])[j]==str(nums[j]):\n",
        "          nums_count+=1\n",
        "        if str(possiblities[i])[j]==str(nums[j]):\n",
        "          equal_count+=1\n",
        "      if nums_count == num_of_b and equal_count == num_of_a:\n",
        "        new_possiblities.append(possiblities[i])\n",
        "  return new_possiblities\n"
      ],
      "metadata": {
        "id": "ZfpQ7SZw0snF"
      },
      "execution_count": null,
      "outputs": []
    },
    {
      "cell_type": "code",
      "source": [
        "def detect_result(myguess,thereal):\n",
        "  As=0\n",
        "  Bs=0\n",
        "  guess = str(myguess)\n",
        "  real = str(thereal)\n",
        "  for i in range(0,len(guess)):\n",
        "    if guess[i] in real:\n",
        "      if guess[i] == real[i]:\n",
        "        As+=1\n",
        "      else:\n",
        "        Bs+=1\n",
        "  return 'B'*Bs+'A'*As\n",
        "detect_result(123,134)"
      ],
      "metadata": {
        "id": "ko0yjJcPGl0f",
        "colab": {
          "base_uri": "https://localhost:8080/",
          "height": 35
        },
        "outputId": "7cde00f4-e86e-46fc-ce4b-085785769a72"
      },
      "execution_count": null,
      "outputs": [
        {
          "output_type": "execute_result",
          "data": {
            "text/plain": [
              "'BA'"
            ],
            "application/vnd.google.colaboratory.intrinsic+json": {
              "type": "string"
            }
          },
          "metadata": {},
          "execution_count": 4
        }
      ]
    },
    {
      "cell_type": "code",
      "source": [
        "answer = input(f'What is the number({digits} digit no repeats no zeros)')\n",
        "while possiblities != 'win':\n",
        "  my_guess = possiblities[0]\n",
        "  #print(possiblities)\n",
        "  print('guessing: ',my_guess,'hint: ',detect_result(my_guess,answer))\n",
        "  possiblities = eliminate(my_guess,detect_result(my_guess,answer))\n"
      ],
      "metadata": {
        "id": "9W9LbzEf7XtT",
        "colab": {
          "base_uri": "https://localhost:8080/"
        },
        "outputId": "84dd3352-2af8-4ec6-c3af-f3d76e4e437e"
      },
      "execution_count": null,
      "outputs": [
        {
          "output_type": "stream",
          "name": "stdout",
          "text": [
            "What is the number(7 digit no repeats no zeros)8932567\n",
            "guessing:  1234567 hint:  BAAAA\n",
            "guessing:  1234689 hint:  BBBBA\n",
            "guessing:  1389567 hint:  BBBAAA\n",
            "guessing:  2938567 hint:  BBAAAAA\n",
            "guessing:  8932567 hint:  AAAAAAA\n"
          ]
        }
      ]
    },
    {
      "cell_type": "code",
      "source": [
        "import matplotlib.pyplot as plt\n",
        "import random\n",
        "moves_for_each = []\n",
        "for digits in range(3,7):\n",
        "  av_moves = []\n",
        "  print(digits)\n",
        "  for i in range(0,20):\n",
        "    print(i)\n",
        "    possiblities = [x for x in range(10**(digits-1),10**digits) if '0' not in str(x) and len(list(set(list(str(x))))) == len(list(str(x)))]\n",
        "    #print(possiblities)\n",
        "    moves = 0\n",
        "    answer = possiblities[random.randint(0,len(possiblities)-1)]\n",
        "    while possiblities != 'win':\n",
        "      moves+=1\n",
        "      my_guess = possiblities[0]\n",
        "      #print(possiblities)\n",
        "      #print('guessing: ',my_guess,'hint: ',detect_result(my_guess,answer))\n",
        "      possiblities = eliminate(my_guess,detect_result(my_guess,answer))\n",
        "    av_moves.append(moves)\n",
        "  moves_for_each.append(sum(av_moves)/len(av_moves))\n",
        "plt.plot(moves_for_each)\n"
      ],
      "metadata": {
        "colab": {
          "base_uri": "https://localhost:8080/",
          "height": 1000
        },
        "id": "L4tCR4kiTJv5",
        "outputId": "c9d817b5-3a24-4508-d6c0-9040363fd723"
      },
      "execution_count": null,
      "outputs": [
        {
          "output_type": "stream",
          "name": "stdout",
          "text": [
            "3\n",
            "0\n",
            "1\n",
            "2\n",
            "3\n",
            "4\n",
            "5\n",
            "6\n",
            "7\n",
            "8\n",
            "9\n",
            "10\n",
            "11\n",
            "12\n",
            "13\n",
            "14\n",
            "15\n",
            "16\n",
            "17\n",
            "18\n",
            "19\n",
            "4\n",
            "0\n",
            "1\n",
            "2\n",
            "3\n",
            "4\n",
            "5\n",
            "6\n",
            "7\n",
            "8\n",
            "9\n",
            "10\n",
            "11\n",
            "12\n",
            "13\n",
            "14\n",
            "15\n",
            "16\n",
            "17\n",
            "18\n",
            "19\n",
            "5\n",
            "0\n",
            "1\n",
            "2\n",
            "3\n",
            "4\n",
            "5\n",
            "6\n",
            "7\n",
            "8\n",
            "9\n",
            "10\n",
            "11\n",
            "12\n",
            "13\n",
            "14\n",
            "15\n",
            "16\n",
            "17\n",
            "18\n",
            "19\n",
            "6\n",
            "0\n",
            "1\n",
            "2\n",
            "3\n",
            "4\n",
            "5\n",
            "6\n",
            "7\n",
            "8\n",
            "9\n",
            "10\n",
            "11\n",
            "12\n",
            "13\n",
            "14\n",
            "15\n",
            "16\n",
            "17\n",
            "18\n",
            "19\n"
          ]
        },
        {
          "output_type": "execute_result",
          "data": {
            "text/plain": [
              "[<matplotlib.lines.Line2D at 0x78a58da1b550>]"
            ]
          },
          "metadata": {},
          "execution_count": 11
        },
        {
          "output_type": "display_data",
          "data": {
            "text/plain": [
              "<Figure size 640x480 with 1 Axes>"
            ],
            "image/png": "[encoded data removed]"
          },
          "metadata": {}
        }
      ]
    }
  ]
}